{
  "nbformat": 4,
  "nbformat_minor": 0,
  "metadata": {
    "colab": {
      "provenance": []
    },
    "kernelspec": {
      "name": "python3",
      "display_name": "Python 3"
    },
    "language_info": {
      "name": "python"
    }
  },
  "cells": [
    {
      "cell_type": "markdown",
      "source": [
        "#Prediksi Hasil Pendapatan Pekerjaan di Bidang Data Science dan Identifikasi Faktor - Faktor yang Mempengaruhi Nilainya"
      ],
      "metadata": {
        "id": "Yh_BcxvxGroq"
      }
    },
    {
      "cell_type": "markdown",
      "source": [
        "##Business Understanding"
      ],
      "metadata": {
        "id": "ToyMARi4H8we"
      }
    },
    {
      "cell_type": "markdown",
      "source": [
        "###Business Objective"
      ],
      "metadata": {
        "id": "4vSi_9cZIOKB"
      }
    },
    {
      "cell_type": "markdown",
      "source": [
        "Tujuan Bisnis dari dataset ini adalah untuk memahami faktor - faktor yang mempengaruhi besar kecilnya gaji di dalam pekerjaan yang berada di dalam lingkup Data Science dan Big Data."
      ],
      "metadata": {
        "id": "wlpEfJ8JITWl"
      }
    },
    {
      "cell_type": "markdown",
      "source": [
        "###Assess Situation"
      ],
      "metadata": {
        "id": "8fylWvnkMaUZ"
      }
    },
    {
      "cell_type": "markdown",
      "source": [
        "Situasi bisnis yang mendasari penelitian ini adalah kurangnya pengetahuan akan pendapatan seseorang yang bekerja di bidang Data Science."
      ],
      "metadata": {
        "id": "uukQ0y2cMnz-"
      }
    },
    {
      "cell_type": "markdown",
      "source": [
        "###Data Mining Goals"
      ],
      "metadata": {
        "id": "xi7L4Kt1ORh8"
      }
    },
    {
      "cell_type": "markdown",
      "source": [
        "Hasil pengolahan pada dataset ini bertujuan untuk menganalisis faktor - faktor yang mempengaruhi gaji seseorang yang bekerja di bidang Data Science untuk memberi pemahaman lebih serta gambaran kasar tentang gaji yang akan diterimanya saat ingin melamar pekerjaan di bidang tersebut."
      ],
      "metadata": {
        "id": "3fMqBDTSOZ8V"
      }
    },
    {
      "cell_type": "markdown",
      "source": [
        "###Project Plan"
      ],
      "metadata": {
        "id": "9QmV5h4sPD1x"
      }
    },
    {
      "cell_type": "markdown",
      "source": [
        "Rencana dari proyek penelitian dataset ini adalah pertama - tama mengumpulkan data - data yang tersedia dari sumbernya. Selanjutnya data akan di eksplorasi mengenai pola - pola atau variabel - variabel yang berkaitan atau yang memiliki hubungan yang menarik. Lalu data akan dibersihkan dari nilai bias, nilai kosong, maupun nilai yang tidak relevan jika terdapat di dalam dataset tersebut. Dan terakhir data akan diolah dan divisualisasikan."
      ],
      "metadata": {
        "id": "tMZdzOxCPh0E"
      }
    }
  ]
}